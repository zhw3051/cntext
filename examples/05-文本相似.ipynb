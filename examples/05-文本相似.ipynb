{
 "cells": [
  {
   "cell_type": "code",
   "execution_count": 1,
   "metadata": {},
   "outputs": [],
   "source": [
    "from cntext.similarity import similarity_score"
   ]
  },
  {
   "cell_type": "code",
   "execution_count": 2,
   "metadata": {},
   "outputs": [
    {
     "name": "stdout",
     "output_type": "stream",
     "text": [
      "Help on function similarity_score in module cntext.similarity.similarity:\n",
      "\n",
      "similarity_score(text1, text2)\n",
      "    对输入的text1和text2进行相似性计算，返回相似性信息\n",
      "    :param text1:  文本字符串\n",
      "    :param text2: 文本字符串\n",
      "    :return:  字典， 形如{\n",
      "                'Sim_Cosine':0.8,\n",
      "                'Sim_Jaccard': 0.3,\n",
      "                'Sim_MinEdit': 0.5,\n",
      "                'Sim_Simple': 0.8\n",
      "                }\n",
      "\n"
     ]
    }
   ],
   "source": [
    "help(similarity_score)"
   ]
  },
  {
   "cell_type": "code",
   "execution_count": 3,
   "metadata": {},
   "outputs": [
    {
     "name": "stderr",
     "output_type": "stream",
     "text": [
      "Building prefix dict from the default dictionary ...\n",
      "Loading model from cache /var/folders/sc/3mnt5tgs419_hk7s16gq61p80000gn/T/jieba.cache\n",
      "Loading model cost 0.633 seconds.\n",
      "Prefix dict has been built successfully.\n"
     ]
    },
    {
     "data": {
      "text/plain": [
       "{'Sim_Cosine': 0.816496580927726,\n",
       " 'Sim_Jaccard': 0.6666666666666666,\n",
       " 'Sim_MinEdit': 1,\n",
       " 'Sim_Simple': 0.9183673469387755}"
      ]
     },
     "execution_count": 3,
     "metadata": {},
     "output_type": "execute_result"
    }
   ],
   "source": [
    "text1 = '编程真好玩编程真好玩'\n",
    "text2 = '游戏真好玩编程真好玩'\n",
    "\n",
    "similarity_score(text1, text2)"
   ]
  },
  {
   "cell_type": "code",
   "execution_count": null,
   "metadata": {},
   "outputs": [],
   "source": []
  }
 ],
 "metadata": {
  "kernelspec": {
   "display_name": "Python 3",
   "language": "python",
   "name": "python3"
  },
  "language_info": {
   "codemirror_mode": {
    "name": "ipython",
    "version": 3
   },
   "file_extension": ".py",
   "mimetype": "text/x-python",
   "name": "python",
   "nbconvert_exporter": "python",
   "pygments_lexer": "ipython3",
   "version": "3.7.5"
  },
  "toc": {
   "base_numbering": 1,
   "nav_menu": {},
   "number_sections": true,
   "sideBar": true,
   "skip_h1_title": false,
   "title_cell": "Table of Contents",
   "title_sidebar": "Contents",
   "toc_cell": false,
   "toc_position": {},
   "toc_section_display": true,
   "toc_window_display": false
  }
 },
 "nbformat": 4,
 "nbformat_minor": 4
}

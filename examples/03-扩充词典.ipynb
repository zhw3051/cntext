{
 "cells": [
  {
   "cell_type": "code",
   "execution_count": 1,
   "metadata": {},
   "outputs": [
    {
     "name": "stderr",
     "output_type": "stream",
     "text": [
      "Building prefix dict from the default dictionary ...\n",
      "Loading model from cache /var/folders/sc/3mnt5tgs419_hk7s16gq61p80000gn/T/jieba.cache\n"
     ]
    },
    {
     "name": "stdout",
     "output_type": "stream",
     "text": [
      "step 1/4:...seg corpus ...\n"
     ]
    },
    {
     "name": "stderr",
     "output_type": "stream",
     "text": [
      "Loading model cost 0.678 seconds.\n",
      "Prefix dict has been built successfully.\n"
     ]
    },
    {
     "name": "stdout",
     "output_type": "stream",
     "text": [
      "step 1/4 finished:...cost 60.78995203971863...\n",
      "step 2/4:...collect cowords ...\n",
      "step 2/4 finished:...cost 0.6169600486755371...\n",
      "step 3/4:...compute sopmi ...\n",
      "step 1/4 finished:...cost 0.26422882080078125...\n",
      "step 4/4:...save candiwords ...\n",
      "finished! cost 61.8965539932251\n"
     ]
    }
   ],
   "source": [
    "from cntext.dictionary import SoPmi\n",
    "import os\n",
    "\n",
    "sopmier = SoPmi(cwd=os.getcwd(),\n",
    "                input_txt_file='data/sopmi_corpus.txt',  #原始数据，您的语料\n",
    "                seedword_txt_file='data/sopmi_seed_words.txt', #人工标注的初始种子词\n",
    "                )   \n",
    "\n",
    "sopmier.sopmi()"
   ]
  },
  {
   "cell_type": "code",
   "execution_count": null,
   "metadata": {},
   "outputs": [],
   "source": []
  },
  {
   "cell_type": "code",
   "execution_count": 1,
   "metadata": {},
   "outputs": [
    {
     "name": "stdout",
     "output_type": "stream",
     "text": [
      "数据预处理开始.......\n",
      "预处理结束...........\n",
      "Word2Vec模型训练开始......\n",
      "已将模型存入 /Users/thunderhit/Desktop/cntext/test/output/w2v_candi_words/w2v.model \n",
      "准备寻找每个seed在语料中所有的相似候选词\n",
      "初步搜寻到 572 个相似的候选词\n",
      "计算每个候选词 与 integrity 的相似度， 选出相似度最高的前 100 个候选词\n",
      "已完成 【integrity 类】 的词语筛选，并保存于 /Users/thunderhit/Desktop/cntext/test/output/w2v_candi_words/integrity.txt， 耗时 46 秒\n",
      "准备寻找每个seed在语料中所有的相似候选词\n",
      "初步搜寻到 516 个相似的候选词\n",
      "计算每个候选词 与 innovation 的相似度， 选出相似度最高的前 100 个候选词\n",
      "已完成 【innovation 类】 的词语筛选，并保存于 /Users/thunderhit/Desktop/cntext/test/output/w2v_candi_words/innovation.txt， 耗时 46 秒\n",
      "准备寻找每个seed在语料中所有的相似候选词\n",
      "初步搜寻到 234 个相似的候选词\n",
      "计算每个候选词 与 quality 的相似度， 选出相似度最高的前 100 个候选词\n",
      "已完成 【quality 类】 的词语筛选，并保存于 /Users/thunderhit/Desktop/cntext/test/output/w2v_candi_words/quality.txt， 耗时 46 秒\n",
      "准备寻找每个seed在语料中所有的相似候选词\n",
      "初步搜寻到 243 个相似的候选词\n",
      "计算每个候选词 与 respect 的相似度， 选出相似度最高的前 100 个候选词\n",
      "已完成 【respect 类】 的词语筛选，并保存于 /Users/thunderhit/Desktop/cntext/test/output/w2v_candi_words/respect.txt， 耗时 46 秒\n",
      "准备寻找每个seed在语料中所有的相似候选词\n",
      "初步搜寻到 319 个相似的候选词\n",
      "计算每个候选词 与 teamwork 的相似度， 选出相似度最高的前 100 个候选词\n",
      "已完成 【teamwork 类】 的词语筛选，并保存于 /Users/thunderhit/Desktop/cntext/test/output/w2v_candi_words/teamwork.txt， 耗时 46 秒\n"
     ]
    }
   ],
   "source": [
    "from cntext.dictionary import W2VModels\n",
    "import os\n",
    "\n",
    "#初始化模型\n",
    "model = W2VModels(cwd=os.getcwd())  #语料数据 w2v_corpus.txt\n",
    "model.train(input_txt_file='data/w2v_corpus.txt')\n",
    "\n",
    "\n",
    "#根据种子词，筛选出没类词最相近的前100个词\n",
    "model.find(seedword_txt_file='data/w2v_seeds/integrity.txt', \n",
    "           topn=100)\n",
    "model.find(seedword_txt_file='data/w2v_seeds/innovation.txt', \n",
    "           topn=100)\n",
    "model.find(seedword_txt_file='data/w2v_seeds/quality.txt', \n",
    "           topn=100)\n",
    "model.find(seedword_txt_file='data/w2v_seeds/respect.txt', \n",
    "           topn=100)\n",
    "model.find(seedword_txt_file='data/w2v_seeds/teamwork.txt', \n",
    "           topn=100)"
   ]
  },
  {
   "cell_type": "code",
   "execution_count": null,
   "metadata": {},
   "outputs": [],
   "source": []
  }
 ],
 "metadata": {
  "kernelspec": {
   "display_name": "Python 3",
   "language": "python",
   "name": "python3"
  },
  "language_info": {
   "codemirror_mode": {
    "name": "ipython",
    "version": 3
   },
   "file_extension": ".py",
   "mimetype": "text/x-python",
   "name": "python",
   "nbconvert_exporter": "python",
   "pygments_lexer": "ipython3",
   "version": "3.7.5"
  },
  "toc": {
   "base_numbering": 1,
   "nav_menu": {},
   "number_sections": true,
   "sideBar": true,
   "skip_h1_title": false,
   "title_cell": "Table of Contents",
   "title_sidebar": "Contents",
   "toc_cell": false,
   "toc_position": {},
   "toc_section_display": true,
   "toc_window_display": false
  }
 },
 "nbformat": 4,
 "nbformat_minor": 4
}

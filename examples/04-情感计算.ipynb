{
 "cells": [
  {
   "cell_type": "code",
   "execution_count": 1,
   "metadata": {},
   "outputs": [],
   "source": [
    "from cntext.sentiment import senti_by_dutir, senti_by_hownet, senti_by_diydict"
   ]
  },
  {
   "cell_type": "code",
   "execution_count": 2,
   "metadata": {},
   "outputs": [
    {
     "name": "stdout",
     "output_type": "stream",
     "text": [
      "Help on function senti_by_dutir in module cntext.sentiment.sentiment:\n",
      "\n",
      "senti_by_dutir(text)\n",
      "    使用大连理工大学情感本体库DUTIR，仅计算文本中各个情绪词出现次数\n",
      "    :param text:  中文文本字符串\n",
      "    :return: 返回文本情感统计信息，类似于这样{'words': 22, 'sentences': 2, '好': 0, '乐': 4, '哀': 0, '怒': 0, '惧': 0, '恶': 0, '惊': 0}\n",
      "\n"
     ]
    }
   ],
   "source": [
    "help(senti_by_dutir)"
   ]
  },
  {
   "cell_type": "code",
   "execution_count": 3,
   "metadata": {},
   "outputs": [
    {
     "name": "stderr",
     "output_type": "stream",
     "text": [
      "Building prefix dict from the default dictionary ...\n",
      "Loading model from cache /var/folders/sc/3mnt5tgs419_hk7s16gq61p80000gn/T/jieba.cache\n",
      "Loading model cost 0.671 seconds.\n",
      "Prefix dict has been built successfully.\n"
     ]
    },
    {
     "data": {
      "text/plain": [
       "{'word_num': 12,\n",
       " 'sentence_num': 2,\n",
       " 'stopword_num': 4,\n",
       " '好_num': 0,\n",
       " '乐_num': 1,\n",
       " '哀_num': 0,\n",
       " '怒_num': 0,\n",
       " '惧_num': 0,\n",
       " '恶_num': 0,\n",
       " '惊_num': 0}"
      ]
     },
     "execution_count": 3,
     "metadata": {},
     "output_type": "execute_result"
    }
   ],
   "source": [
    "text = '今天股票大涨，心情倍爽，非常开心啊。'\n",
    "\n",
    "senti_by_dutir(text)"
   ]
  },
  {
   "cell_type": "code",
   "execution_count": 4,
   "metadata": {},
   "outputs": [
    {
     "name": "stdout",
     "output_type": "stream",
     "text": [
      "Help on function senti_by_hownet in module cntext.sentiment.sentiment:\n",
      "\n",
      "senti_by_hownet(text, adj_adv=False)\n",
      "    使用知网Hownet词典进行(中)文本数据的情感分析;\n",
      "    :param text:  待分析的中文文本数据\n",
      "    :param adj_adv:  是否考虑副词（否定词、程度词）对情绪形容词的反转和情感强度修饰作用，默认False。默认False只统计情感形容词出现个数；\n",
      "    :return:  返回情感信息\n",
      "\n"
     ]
    }
   ],
   "source": [
    "help(senti_by_hownet)"
   ]
  },
  {
   "cell_type": "code",
   "execution_count": 5,
   "metadata": {},
   "outputs": [
    {
     "data": {
      "text/plain": [
       "{'word_num': 12,\n",
       " 'stopword_num': 4,\n",
       " 'sentence_num': 1,\n",
       " 'pos_word_num': 2,\n",
       " 'neg_word_num': 0}"
      ]
     },
     "execution_count": 5,
     "metadata": {},
     "output_type": "execute_result"
    }
   ],
   "source": [
    "senti_by_hownet(text)"
   ]
  },
  {
   "cell_type": "code",
   "execution_count": 6,
   "metadata": {},
   "outputs": [
    {
     "data": {
      "text/plain": [
       "{'sentence_num': 1,\n",
       " 'word_num': 12,\n",
       " 'stopword_num': 3,\n",
       " 'pos_score': 13.0,\n",
       " 'neg_score': 0.0}"
      ]
     },
     "execution_count": 6,
     "metadata": {},
     "output_type": "execute_result"
    }
   ],
   "source": [
    "senti_by_hownet(text, adj_adv=True)"
   ]
  },
  {
   "cell_type": "code",
   "execution_count": 7,
   "metadata": {},
   "outputs": [
    {
     "name": "stdout",
     "output_type": "stream",
     "text": [
      "Help on function senti_by_diydict in module cntext.sentiment.sentiment:\n",
      "\n",
      "senti_by_diydict(text, sentiwords)\n",
      "    使用diy词典进行情感分析，计算各个情绪词出现次数，未考虑强度副词、否定词对情感的复杂影响，\n",
      "    :param text:  待分析中文文本\n",
      "    :param sentiwords:  情感词字典；\n",
      "    {'category1':  'category1 词语列表',\n",
      "     'category2': 'category2词语列表',\n",
      "     'category3': 'category3词语列表',\n",
      "     ...\n",
      "    }\n",
      "    \n",
      "    :return:\n",
      "\n"
     ]
    }
   ],
   "source": [
    "help(senti_by_diydict)"
   ]
  },
  {
   "cell_type": "code",
   "execution_count": 8,
   "metadata": {},
   "outputs": [
    {
     "data": {
      "text/plain": [
       "{'pos_num': 1,\n",
       " 'neg_num': 0,\n",
       " 'adv_num': 1,\n",
       " 'stopword_num': 4,\n",
       " 'sentence_num': 2,\n",
       " 'word_num': 12}"
      ]
     },
     "execution_count": 8,
     "metadata": {},
     "output_type": "execute_result"
    }
   ],
   "source": [
    "sentiwords = {'pos': ['开心', '愉快', '倍爽'],\n",
    "              'neg': ['难过', '悲伤'],\n",
    "              'adv': ['倍']}\n",
    "\n",
    "text = '今天股票大涨，心情倍爽，非常开心啊。'\n",
    "senti_by_diydict(text, sentiwords)"
   ]
  },
  {
   "cell_type": "code",
   "execution_count": null,
   "metadata": {},
   "outputs": [],
   "source": []
  }
 ],
 "metadata": {
  "kernelspec": {
   "display_name": "Python 3",
   "language": "python",
   "name": "python3"
  },
  "language_info": {
   "codemirror_mode": {
    "name": "ipython",
    "version": 3
   },
   "file_extension": ".py",
   "mimetype": "text/x-python",
   "name": "python",
   "nbconvert_exporter": "python",
   "pygments_lexer": "ipython3",
   "version": "3.7.5"
  },
  "toc": {
   "base_numbering": 1,
   "nav_menu": {},
   "number_sections": true,
   "sideBar": true,
   "skip_h1_title": false,
   "title_cell": "Table of Contents",
   "title_sidebar": "Contents",
   "toc_cell": false,
   "toc_position": {},
   "toc_section_display": true,
   "toc_window_display": false
  }
 },
 "nbformat": 4,
 "nbformat_minor": 4
}
